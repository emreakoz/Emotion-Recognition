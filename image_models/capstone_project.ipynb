{
 "cells": [
  {
   "cell_type": "markdown",
   "metadata": {},
   "source": [
    "## Predicting Emotions of Marathon Runners from Pictures"
   ]
  },
  {
   "cell_type": "markdown",
   "metadata": {},
   "source": [
    "## Overview\n",
    "\n",
    "Facial expressions are the most effective way of non-verbal communication. It provides information about emotional state and intentions. Therefore, extracting information from facial expressions have numerous application areas. A few of the application areas are summarized below;\n",
    "\n",
    "* **Human-Machine Interaction:** Humans and machines started to share similar tasks, so, different communication channels in between human and machines have become more important.\n",
    "\n",
    "* **Healthcare:** Medical applications such as automatically detecting the pain level of patients in medical operations. Another application could be understanding the emotional state of people with autism spectrum disorders.\n",
    "\n",
    "* **Market Research:** The impact of an advertiement or a comercial can be judged by showing it to a group of people and automatically detecting their emotions from their facial expressions. \n",
    "\n",
    "* **Security Systems:** Any intentions of criminal activities can be predicted in airports, sports arenas, casinos etc. out of the security camera images.\n",
    "\n",
    "I am interested in long distance running and this notebook discusses an application of emotion detection from facial expressions: predicting emotional state of marathon runners based on their pictures. While running long distance, you clear your mind from day-to-day psychological stressors, whereas, on the other hand, you load a more fundamental physiological stress to your body. So, I found observing and predicting this trade-off particularly interesting."
   ]
  },
  {
   "cell_type": "markdown",
   "metadata": {},
   "source": [
    "## 1.Introduction"
   ]
  },
  {
   "cell_type": "markdown",
   "metadata": {},
   "source": [
    "Woodrow Bledsoe in MIT originated the automated facial recognition in 60's and facial recognition has come a long way since. Particularly, recently Apple introduced the FaceID, a facial recognition technology to unlock iPhones, face recognition technology has started to gain increasing market attention. Based on various market research reports, BusinessWire and Reuters reported in late 2018 that the global facial recognition market size was $\\$4$ billion in 2018 and is estimated to grow to $\\$10$ billion in 2025.\n",
    "\n",
    "Facial expressions  have consistent correlation with self-reported emotion. Therefore, a natural extension of using the extracted facial expressions is predicting the emotional state. Research in psychology has indicated that six emotions are universally associated with distinct facial expressions (Ekman, 1992)[1]. These six principal emotions are: happiness, sadness, surprise, fear, anger, and disgust. Instead, here, we are going to classify the emotions into eight categories. On top of the emotions proposed by Ekman, this notebook tries to classify two more emotions; neutral and contempt. The motivation behind the eight emotions convention instead of the six emotions convention comes from the labeled dataset (AffectNet) that was acquired from the University of Denver [2]. In light of these distinct emotions, this notebook builds a neural network classifier that gets the pictures of marathon runners and a few of their demographic information and predicts their emotions. I divided the project into the following three main parts,\n",
    "\n",
    "* Gathering the Data\n",
    "* Building/Implementing the Model\n",
    "* Testing the Model\n",
    "\n",
    "The details of the implementation is discussed in the following sections."
   ]
  },
  {
   "cell_type": "markdown",
   "metadata": {},
   "source": [
    "## 2. Gathering the Data\n",
    "\n",
    "The data for this project consists of the facial images and the demographic information of the marathon runners. The majority of the face images are acquired from University of Denver. The Electrical and Computer Engineering in University of Denver has one of the largest facial image databases (AffectNet) that consists of 420K manually labeled facial expressions. The database was around 60GB in size. After filtering the broken images and standardizing the custom size images to 128 by 128 pixels, it shrunk to ~3GB. These images are not faces of marathon runners so an additional 600 marathon runner facial expressions are labeled from 10 different marathons. The marathons are selected to be two of the biggest marathons in North America and Europe as the Chicago Marathon and London Marathon. 60 images are selected randomly among the people ranked between 1-20000 from these two marathons for each year's race from 2014 to 2018. A network is trained on the large dataset and the weights of this network is fine tuned using the small dataset together with the demographic information of the runners.\n",
    "\n",
    "The demographic information was scraped from the web. Gender, age, nationality, ranking by gender, pace information was announced for each runner on the Chicago Marathon's and London Marathon's web pages. An explanotary analysis is performed on the demographics information to better understand the dynamics of the problem. The scraping and the explonatory analysis are detailed below.\n"
   ]
  },
  {
   "cell_type": "code",
   "execution_count": 5,
   "metadata": {},
   "outputs": [
    {
     "data": {
      "text/html": [
       "<div>\n",
       "<style scoped>\n",
       "    .dataframe tbody tr th:only-of-type {\n",
       "        vertical-align: middle;\n",
       "    }\n",
       "\n",
       "    .dataframe tbody tr th {\n",
       "        vertical-align: top;\n",
       "    }\n",
       "\n",
       "    .dataframe thead th {\n",
       "        text-align: right;\n",
       "    }\n",
       "</style>\n",
       "<table border=\"1\" class=\"dataframe\">\n",
       "  <thead>\n",
       "    <tr style=\"text-align: right;\">\n",
       "      <th></th>\n",
       "      <th>rankings</th>\n",
       "      <th>names</th>\n",
       "      <th>ages</th>\n",
       "      <th>nats</th>\n",
       "      <th>half_times</th>\n",
       "      <th>finish_times</th>\n",
       "      <th>gender_rankings</th>\n",
       "    </tr>\n",
       "  </thead>\n",
       "  <tbody>\n",
       "    <tr>\n",
       "      <th>0</th>\n",
       "      <td>0</td>\n",
       "      <td>Kipchoge, Eliud</td>\n",
       "      <td>25-29</td>\n",
       "      <td>KEN</td>\n",
       "      <td>1:02:11</td>\n",
       "      <td>2:04:11</td>\n",
       "      <td>1</td>\n",
       "    </tr>\n",
       "    <tr>\n",
       "      <th>1</th>\n",
       "      <td>1</td>\n",
       "      <td>Kitwara, Sammy</td>\n",
       "      <td>25-29</td>\n",
       "      <td>KEN</td>\n",
       "      <td>1:02:12</td>\n",
       "      <td>2:04:28</td>\n",
       "      <td>2</td>\n",
       "    </tr>\n",
       "    <tr>\n",
       "      <th>2</th>\n",
       "      <td>2</td>\n",
       "      <td>Chumba, Dickson</td>\n",
       "      <td>25-29</td>\n",
       "      <td>KEN</td>\n",
       "      <td>1:02:12</td>\n",
       "      <td>2:04:32</td>\n",
       "      <td>3</td>\n",
       "    </tr>\n",
       "    <tr>\n",
       "      <th>3</th>\n",
       "      <td>3</td>\n",
       "      <td>Bekele, Kenenisa</td>\n",
       "      <td>30-34</td>\n",
       "      <td>ETH</td>\n",
       "      <td>1:02:12</td>\n",
       "      <td>2:05:51</td>\n",
       "      <td>4</td>\n",
       "    </tr>\n",
       "    <tr>\n",
       "      <th>4</th>\n",
       "      <td>4</td>\n",
       "      <td>Koech, Bernard</td>\n",
       "      <td>25-29</td>\n",
       "      <td>KEN</td>\n",
       "      <td>1:02:12</td>\n",
       "      <td>2:08:30</td>\n",
       "      <td>5</td>\n",
       "    </tr>\n",
       "  </tbody>\n",
       "</table>\n",
       "</div>"
      ],
      "text/plain": [
       "   rankings             names   ages nats half_times finish_times  \\\n",
       "0         0   Kipchoge, Eliud  25-29  KEN    1:02:11      2:04:11   \n",
       "1         1    Kitwara, Sammy  25-29  KEN    1:02:12      2:04:28   \n",
       "2         2   Chumba, Dickson  25-29  KEN    1:02:12      2:04:32   \n",
       "3         3  Bekele, Kenenisa  30-34  ETH    1:02:12      2:05:51   \n",
       "4         4    Koech, Bernard  25-29  KEN    1:02:12      2:08:30   \n",
       "\n",
       "   gender_rankings  \n",
       "0                1  \n",
       "1                2  \n",
       "2                3  \n",
       "3                4  \n",
       "4                5  "
      ]
     },
     "execution_count": 5,
     "metadata": {},
     "output_type": "execute_result"
    }
   ],
   "source": [
    "from selenium import webdriver\n",
    "import pandas as pd\n",
    "\n",
    "def chicago_mararthon_scraper():\n",
    "    ## London Marathon Scraper\n",
    "    driver = webdriver.Chrome(r'/Users/emre/TDI/chromedriver')\n",
    "    demographics = {'names': [], 'gender_rank': [], 'ages': [], 'nats': [], 'rankings': [],\n",
    "                    'half_times': [], 'finish_times': []}\n",
    "    \n",
    "    for i in range(1,216):\n",
    "        driver.get('http://chicago-history.r.mikatiming.de/2014/?page='+str(i)+\n",
    "                   '&event=MAR_999999107FA30900000000A1&lang=EN_CAP&num_results=100&pid=list&search%5Bsex%5D=W&search%5Bage_class%5D=%25')\n",
    "        for j in range(2,102):\n",
    "            row = driver.find_element_by_xpath('//*[@id=\"cbox-main\"]/div[2]/ul/li[%s]'%j)\n",
    "            demographics['rankings'].append(row.find_element_by_xpath('./div[1]/div/div[1]').text)\n",
    "            demographics['names'].append(row.find_element_by_xpath('./div[1]/div/h4/a').text[:-6])\n",
    "            demographics['ages'].append(row.find_element_by_xpath('./div[2]/div[1]/div/div[3]').text)\n",
    "            demographics['nats'].append(row.find_element_by_xpath('./div[1]/div/h4/a').text[-4:-1])\n",
    "            demographics['half_times'].append(row.find_element_by_xpath('./div[2]/div[2]/div/div[1]').text)\n",
    "            demographics['finish_times'].append(row.find_element_by_xpath('./div[2]/div[2]/div/div[2]').text)\n",
    "            demographics['gender_rankings'].append(row.find_element_by_xpath('./div[1]/div/div[2]').text)\n",
    "    driver.quit()\n",
    "    \n",
    "    return demographics\n",
    "\n",
    "df = pd.DataFrame.from_dict(chicago_mararthon_scraper())\n",
    "#df = pd.read_csv('../marathon_demographics/chicago2014_jn.csv')\n",
    "#df.to_csv('./chicago2014.csv')\n",
    "df.head()"
   ]
  },
  {
   "cell_type": "markdown",
   "metadata": {},
   "source": [
    "The pages that announce marathon results are dynamic web pages which show a portion of the race results. User needs to interact with the web page and click on buttons to see the next batch of finisher information. Selenium is a python library which helps scraping data from dynamic web sites. It allows you to open a browser of your choice and perform tasks such as clicking buttons and searching for specific information. A sample code snipplet that scrapes the demographics information from 2014 Chicago Marathon is shown above. I used the XPaths specific elements to scrape the demographics data.\n",
    "\n",
    "The raw data needed to be cleaned and further processed. For example, the finishing times of the runners are normalized according to the Boston Qualification time to eliminate the biases coming from age and gender for each runner. Additionally, the finishing time can be divided by the half mark passing time so that we can investigate the effect of the split times to the performance of the runners. A script illustrating the post processing is presented below."
   ]
  },
  {
   "cell_type": "code",
   "execution_count": 8,
   "metadata": {},
   "outputs": [
    {
     "data": {
      "text/html": [
       "<div>\n",
       "<style scoped>\n",
       "    .dataframe tbody tr th:only-of-type {\n",
       "        vertical-align: middle;\n",
       "    }\n",
       "\n",
       "    .dataframe tbody tr th {\n",
       "        vertical-align: top;\n",
       "    }\n",
       "\n",
       "    .dataframe thead th {\n",
       "        text-align: right;\n",
       "    }\n",
       "</style>\n",
       "<table border=\"1\" class=\"dataframe\">\n",
       "  <thead>\n",
       "    <tr style=\"text-align: right;\">\n",
       "      <th></th>\n",
       "      <th>rankings</th>\n",
       "      <th>names</th>\n",
       "      <th>ages</th>\n",
       "      <th>nats</th>\n",
       "      <th>half_times</th>\n",
       "      <th>finish_times</th>\n",
       "      <th>gender_rankings</th>\n",
       "      <th>finish_secs</th>\n",
       "      <th>half_secs</th>\n",
       "      <th>pace</th>\n",
       "      <th>gender</th>\n",
       "      <th>BQ</th>\n",
       "    </tr>\n",
       "  </thead>\n",
       "  <tbody>\n",
       "    <tr>\n",
       "      <th>0</th>\n",
       "      <td>0</td>\n",
       "      <td>Kipchoge, Eliud</td>\n",
       "      <td>25-29</td>\n",
       "      <td>KEN</td>\n",
       "      <td>1:02:11</td>\n",
       "      <td>2:04:11</td>\n",
       "      <td>1</td>\n",
       "      <td>0 days 02:04:11.000000000</td>\n",
       "      <td>0 days 01:02:11.000000000</td>\n",
       "      <td>0.997052</td>\n",
       "      <td>M</td>\n",
       "      <td>YES</td>\n",
       "    </tr>\n",
       "    <tr>\n",
       "      <th>1</th>\n",
       "      <td>1</td>\n",
       "      <td>Kitwara, Sammy</td>\n",
       "      <td>25-29</td>\n",
       "      <td>KEN</td>\n",
       "      <td>1:02:12</td>\n",
       "      <td>2:04:28</td>\n",
       "      <td>2</td>\n",
       "      <td>0 days 02:04:28.000000000</td>\n",
       "      <td>0 days 01:02:12.000000000</td>\n",
       "      <td>1.001072</td>\n",
       "      <td>M</td>\n",
       "      <td>YES</td>\n",
       "    </tr>\n",
       "    <tr>\n",
       "      <th>2</th>\n",
       "      <td>2</td>\n",
       "      <td>Chumba, Dickson</td>\n",
       "      <td>25-29</td>\n",
       "      <td>KEN</td>\n",
       "      <td>1:02:12</td>\n",
       "      <td>2:04:32</td>\n",
       "      <td>3</td>\n",
       "      <td>0 days 02:04:32.000000000</td>\n",
       "      <td>0 days 01:02:12.000000000</td>\n",
       "      <td>1.002144</td>\n",
       "      <td>M</td>\n",
       "      <td>YES</td>\n",
       "    </tr>\n",
       "    <tr>\n",
       "      <th>3</th>\n",
       "      <td>3</td>\n",
       "      <td>Bekele, Kenenisa</td>\n",
       "      <td>30-34</td>\n",
       "      <td>ETH</td>\n",
       "      <td>1:02:12</td>\n",
       "      <td>2:05:51</td>\n",
       "      <td>4</td>\n",
       "      <td>0 days 02:05:51.000000000</td>\n",
       "      <td>0 days 01:02:12.000000000</td>\n",
       "      <td>1.023312</td>\n",
       "      <td>M</td>\n",
       "      <td>YES</td>\n",
       "    </tr>\n",
       "    <tr>\n",
       "      <th>4</th>\n",
       "      <td>4</td>\n",
       "      <td>Koech, Bernard</td>\n",
       "      <td>25-29</td>\n",
       "      <td>KEN</td>\n",
       "      <td>1:02:12</td>\n",
       "      <td>2:08:30</td>\n",
       "      <td>5</td>\n",
       "      <td>0 days 02:08:30.000000000</td>\n",
       "      <td>0 days 01:02:12.000000000</td>\n",
       "      <td>1.065916</td>\n",
       "      <td>M</td>\n",
       "      <td>YES</td>\n",
       "    </tr>\n",
       "  </tbody>\n",
       "</table>\n",
       "</div>"
      ],
      "text/plain": [
       "   rankings             names   ages nats half_times finish_times  \\\n",
       "0         0   Kipchoge, Eliud  25-29  KEN    1:02:11      2:04:11   \n",
       "1         1    Kitwara, Sammy  25-29  KEN    1:02:12      2:04:28   \n",
       "2         2   Chumba, Dickson  25-29  KEN    1:02:12      2:04:32   \n",
       "3         3  Bekele, Kenenisa  30-34  ETH    1:02:12      2:05:51   \n",
       "4         4    Koech, Bernard  25-29  KEN    1:02:12      2:08:30   \n",
       "\n",
       "   gender_rankings                finish_secs                  half_secs  \\\n",
       "0                1  0 days 02:04:11.000000000  0 days 01:02:11.000000000   \n",
       "1                2  0 days 02:04:28.000000000  0 days 01:02:12.000000000   \n",
       "2                3  0 days 02:04:32.000000000  0 days 01:02:12.000000000   \n",
       "3                4  0 days 02:05:51.000000000  0 days 01:02:12.000000000   \n",
       "4                5  0 days 02:08:30.000000000  0 days 01:02:12.000000000   \n",
       "\n",
       "       pace gender   BQ  \n",
       "0  0.997052      M  YES  \n",
       "1  1.001072      M  YES  \n",
       "2  1.002144      M  YES  \n",
       "3  1.023312      M  YES  \n",
       "4  1.065916      M  YES  "
      ]
     },
     "execution_count": 8,
     "metadata": {},
     "output_type": "execute_result"
    }
   ],
   "source": [
    "import pandas as pd\n",
    "from datetime import datetime, timedelta\n",
    "\n",
    "#Let's clean the unnecessary rows with corrupted data\n",
    "chicago2014 = pd.read_csv('./chicago2014.csv').dropna()\n",
    "chicago2014 = chicago2014[chicago2014['half_times'] != '–']\n",
    "chicago2014 = chicago2014[chicago2014['ages'] != 'W-15']\n",
    "chicago2014 = chicago2014[chicago2014['ages'] != 'M-15']\n",
    "\n",
    "\n",
    "#boston qualifier dictionaries for chicago marathon\n",
    "time_men_chicago = {'16-19':datetime.strptime('03:00:00', '%H:%M:%S'),\n",
    "            '20-24':datetime.strptime('03:00:00', '%H:%M:%S'),\n",
    "            '25-29':datetime.strptime('03:00:00', '%H:%M:%S'), \n",
    "            '30-34':datetime.strptime('03:00:00', '%H:%M:%S'),\n",
    "            '35-39':datetime.strptime('03:05:00', '%H:%M:%S'),\n",
    "            '40-44':datetime.strptime('03:10:00', '%H:%M:%S'),\n",
    "            '45-49':datetime.strptime('03:20:00', '%H:%M:%S'),\n",
    "            '50-54':datetime.strptime('03:25:00', '%H:%M:%S'),\n",
    "            '55-59':datetime.strptime('03:35:00', '%H:%M:%S'),\n",
    "            '60-64':datetime.strptime('03:50:00', '%H:%M:%S'),\n",
    "            '65-69':datetime.strptime('04:05:00', '%H:%M:%S'),\n",
    "            '70-74':datetime.strptime('04:20:00', '%H:%M:%S'),\n",
    "            '75-79':datetime.strptime('04:35:00', '%H:%M:%S'),\n",
    "            '80+':datetime.strptime('04:50:00', '%H:%M:%S')\n",
    "            }\n",
    "\n",
    "time_women_chicago = {'16-19':datetime.strptime('03:30:00', '%H:%M:%S'),\n",
    "              '20-24':datetime.strptime('03:30:00', '%H:%M:%S'),\n",
    "              '25-29':datetime.strptime('03:30:00', '%H:%M:%S'), \n",
    "              '30-34':datetime.strptime('03:30:00', '%H:%M:%S'),\n",
    "              '35-39':datetime.strptime('03:35:00', '%H:%M:%S'),\n",
    "              '40-44':datetime.strptime('03:40:00', '%H:%M:%S'),\n",
    "              '45-49':datetime.strptime('03:50:00', '%H:%M:%S'),\n",
    "              '50-54':datetime.strptime('03:55:00', '%H:%M:%S'),\n",
    "              '55-59':datetime.strptime('04:05:00', '%H:%M:%S'),\n",
    "              '60-64':datetime.strptime('04:20:00', '%H:%M:%S'),\n",
    "              '65-69':datetime.strptime('04:35:00', '%H:%M:%S'),\n",
    "              '70-74':datetime.strptime('04:50:00', '%H:%M:%S'),\n",
    "              '75-79':datetime.strptime('05:05:00', '%H:%M:%S'),\n",
    "              '80+':datetime.strptime('05:20:00', '%H:%M:%S')\n",
    "              }\n",
    "\n",
    "\n",
    "def pace(df):\n",
    "    #This function returns a dataframe with 3 extra columns named, \n",
    "    #'finish_secs', 'half_secs' and 'pace'\n",
    "    df['finish_secs'] = pd.to_timedelta(df['finish_times'])\n",
    "    df['half_secs'] = pd.to_timedelta(df['half_times'])\n",
    "    df['pace'] = (df['finish_secs'].dt.total_seconds() \n",
    "    - df['half_secs'].dt.total_seconds())/ df['half_secs'].dt.total_seconds()\n",
    "    \n",
    "    df = df.sort_values(['finish_secs'], ascending=[True])\n",
    "    df = df.reset_index(drop=True)\n",
    "    \n",
    "    return df\n",
    "\n",
    "\n",
    "def gender(df):\n",
    "    #This function returns a dataframe with an extra column of the \n",
    "    #appropriate gender of the runner\n",
    "    rankings,gender = [], []\n",
    "    for i,ranking in enumerate(df['gender_rankings']):\n",
    "        if ranking not in rankings:\n",
    "            rankings.append(ranking)\n",
    "            gender.append('M')\n",
    "        else:\n",
    "            gender.append('F')\n",
    "\n",
    "    df['gender'] = gender\n",
    "\n",
    "    return df\n",
    "\n",
    "\n",
    "def bq(df, table_men, table_women):\n",
    "    #This function returns a dataframe with an extra column of 'YES' and 'NO'\n",
    "    #according to the boston qualification assesment\n",
    "    BQ = []\n",
    "    for i in range(len(df['finish_times'])):\n",
    "        if df['gender'][i] == 'M':\n",
    "            if df['finish_secs'][i] < timedelta(hours = table_men[df['ages'][i]].hour, minutes = table_men[df['ages'][i]].minute, seconds = table_men[df['ages'][i]].second):\n",
    "                BQ.append('YES')\n",
    "            else: BQ.append('NO')\n",
    "        elif df['gender'][i] == 'F':\n",
    "            if df['finish_secs'][i] < timedelta(hours = table_women[df['ages'][i]].hour, minutes = table_women[df['ages'][i]].minute, seconds = table_women[df['ages'][i]].second):\n",
    "                BQ.append('YES')\n",
    "            else: BQ.append('NO')\n",
    "\n",
    "    df['BQ'] = BQ   \n",
    "    \n",
    "    return df\n",
    "\n",
    "chicago2014 = bq(gender(pace(chicago2014)), time_men_chicago, time_women_chicago)\n",
    "#df = pd.read_csv('../marathon_demographics/chicago2014.csv')\n",
    "#chicago2014.to_csv('./chicago2014_clean.csv')\n",
    "df.head()"
   ]
  },
  {
   "cell_type": "markdown",
   "metadata": {},
   "source": [
    "Once the data is cleaned and additional features are added for training, 150 runner images per race are picked random and labeled based on their emotions. Now, the data frame is ready for the exploratory analysis."
   ]
  },
  {
   "cell_type": "code",
   "execution_count": 15,
   "metadata": {},
   "outputs": [
    {
     "data": {
      "text/plain": [
       "<matplotlib.legend.Legend at 0x11a36a1d0>"
      ]
     },
     "execution_count": 15,
     "metadata": {},
     "output_type": "execute_result"
    },
    {
     "data": {
      "image/png": "[encoded data removed]",
      "text/plain": [
       "<Figure size 432x288 with 1 Axes>"
      ]
     },
     "metadata": {
      "needs_background": "light"
     },
     "output_type": "display_data"
    }
   ],
   "source": [
    "import pandas as pd\n",
    "import matplotlib.pyplot as plt\n",
    "from matplotlib.lines import Line2D\n",
    "\n",
    "chicago = pd.read_csv('./chicago2018.csv').dropna()\n",
    "london = pd.read_csv('./london2018.csv').dropna()\n",
    "\n",
    "gender = (london.groupby(['gender','emotions'])['names'].count() + \n",
    "          chicago.groupby(['gender','emotions'])['names'].count()).reset_index()\n",
    "gender.rename(columns={'names': 'count'}, inplace=True)\n",
    "\n",
    "gender.loc[gender['gender']=='M', 'frequency'] = gender.loc[gender['gender']=='M', \n",
    "           'count'] / gender.loc[gender['gender'] == 'M','count'].sum()\n",
    "gender.loc[gender['gender']=='F', 'frequency'] = gender.loc[gender['gender']=='F', \n",
    "           'count'] / gender.loc[gender['gender'] == 'F','count'].sum()\n",
    "\n",
    "gender = gender.sort_values(['gender','frequency'], ascending=[True,False])\n",
    "\n",
    "\n",
    "# set width of bar\n",
    "barWidth = 0.23\n",
    " \n",
    "# set height of bar\n",
    "women = list(gender.loc[:2,'frequency'])\n",
    "men = list(gender.loc[7:13,'frequency'])\n",
    "\n",
    "# Set position of bar on X axis\n",
    "y1 = [0.25,0.5,0.75]\n",
    "y2 = [1.25,1.5,1.75]\n",
    " \n",
    "# Make the plot\n",
    "set1 = plt.bar(y1, women, width=barWidth)\n",
    "set2 = plt.bar(y2, men, width=barWidth)\n",
    "\n",
    "set1[0].set_color('sandybrown')\n",
    "set1[1].set_color('lightsteelblue')\n",
    "set1[2].set_color('olivedrab')\n",
    "\n",
    "set2[0].set_color('lightsteelblue')\n",
    "set2[1].set_color('olivedrab')\n",
    "set2[2].set_color('firebrick')\n",
    "\n",
    "# Add xticks on the middle of the group bars\n",
    "plt.xlabel('Gender', fontweight='bold')\n",
    "plt.ylabel('Frequency', fontweight='bold')\n",
    "plt.xticks([r + 0.5 for r in range(2)], ['WOMEN', 'MEN'])\n",
    "plt.gca().xaxis.grid(False)\n",
    "\n",
    "legend_elements = [Line2D([0], [0], color='lightsteelblue', lw=6, label='Neutral'),\n",
    "                   Line2D([0], [0], color='sandybrown', lw=6, label='Happy'),\n",
    "                   Line2D([0], [0], color='olivedrab', lw=6, label='Sad'),\n",
    "                   Line2D([0], [0], color='firebrick', lw=6, label='Angry')]\n",
    "# Create legend & Show graphic\n",
    "plt.legend(handles=legend_elements,bbox_to_anchor=(1.25, 1.0))\n",
    "#plt.savefig('gender.eps',dpsi=1000)"
   ]
  },
  {
   "cell_type": "markdown",
   "metadata": {},
   "source": [
    "Plot above shows three common emotions based on gender. We see that women express mostly a happy face whereas men have negative emotions such as sadness and anger. We might speculate here that women has higher pain tolerance than men."
   ]
  },
  {
   "cell_type": "code",
   "execution_count": 16,
   "metadata": {},
   "outputs": [
    {
     "data": {
      "text/plain": [
       "<matplotlib.legend.Legend at 0x116a52438>"
      ]
     },
     "execution_count": 16,
     "metadata": {},
     "output_type": "execute_result"
    },
    {
     "data": {
      "image/png": "[encoded data removed]",
      "text/plain": [
       "<Figure size 432x288 with 1 Axes>"
      ]
     },
     "metadata": {
      "needs_background": "light"
     },
     "output_type": "display_data"
    }
   ],
   "source": [
    "#####-------------------ranking analysis-----------------------------###\n",
    "sizeBins = [0, 5000, 10000, 15000, 20050]\n",
    "chicago['binned_rankings'] = pd.cut(chicago['index'], bins = sizeBins)\n",
    "london['binned_rankings'] = pd.cut(london['index'], bins = sizeBins)\n",
    "\n",
    "rankings = (london.groupby(['binned_rankings','emotions'])['names'].count() + \n",
    "          chicago.groupby(['binned_rankings','emotions'])['names'].count()).reset_index()\n",
    "rankings.rename(columns={'names': 'count'}, inplace=True)\n",
    "rankings = rankings.dropna()\n",
    "rankings['binned_rankings'] = rankings['binned_rankings'].apply(lambda x:x.right)\n",
    "\n",
    "rankings.loc[rankings['binned_rankings']==5000, 'frequency'] = rankings.loc[\n",
    "        rankings['binned_rankings']==5000,'count']/rankings.loc[rankings[\n",
    "                'binned_rankings']==5000,'count'].sum()\n",
    "\n",
    "rankings.loc[rankings['binned_rankings']==10000, 'frequency'] = rankings.loc[\n",
    "        rankings['binned_rankings']==10000,'count']/rankings.loc[rankings[\n",
    "                'binned_rankings']==10000,'count'].sum()\n",
    "\n",
    "rankings.loc[rankings['binned_rankings']==15000, 'frequency'] = rankings.loc[\n",
    "        rankings['binned_rankings']==15000,'count']/rankings.loc[rankings[\n",
    "                'binned_rankings']==15000,'count'].sum()\n",
    "\n",
    "rankings.loc[rankings['binned_rankings']==20050, 'frequency'] = rankings.loc[\n",
    "        rankings['binned_rankings']==20050,'count']/rankings.loc[rankings[\n",
    "                'binned_rankings']==20050,'count'].sum()\n",
    "\n",
    "rankings = rankings.sort_values(['binned_rankings', 'frequency'], ascending=[True, False])\n",
    "\n",
    "## set width of bar\n",
    "barWidth = 0.24\n",
    " \n",
    "# set height of bar\n",
    "bin1 = list(rankings.loc[:6,'frequency'])\n",
    "bin2 = list(rankings.loc[8:10,'frequency'])\n",
    "bin3 = list(rankings.loc[17:18,'frequency'])\n",
    "bin4 = list(rankings.loc[23:24,'frequency'])\n",
    "\n",
    "# Set position of bar on X axis\n",
    "y1 = [0.1,0.35,0.6]\n",
    "y2 = [1.1,1.35,1.6]\n",
    "y3 = [2.1,2.35,2.6]\n",
    "y4 = [3.1,3.35,3.6]\n",
    "#\n",
    "# Make the plot\n",
    "set1 = plt.bar(y1, bin1, width=barWidth, edgecolor='white')\n",
    "set2 = plt.bar(y2, bin2, width=barWidth, edgecolor='white')\n",
    "set3 = plt.bar(y3, bin3, width=barWidth, edgecolor='white')\n",
    "set4 = plt.bar(y4, bin4, width=barWidth, edgecolor='white')\n",
    "\n",
    "set1[0].set_color('lightsteelblue')\n",
    "set1[1].set_color('olivedrab')\n",
    "set1[2].set_color('firebrick')\n",
    "\n",
    "set2[0].set_color('lightsteelblue')\n",
    "set2[1].set_color('sandybrown')\n",
    "set2[2].set_color('olivedrab')\n",
    "\n",
    "set3[0].set_color('sandybrown')\n",
    "set3[1].set_color('lightsteelblue')\n",
    "set3[2].set_color('olivedrab')\n",
    "\n",
    "set4[0].set_color('sandybrown')\n",
    "set4[1].set_color('lightsteelblue')\n",
    "set4[2].set_color('olivedrab')\n",
    "\n",
    "# Add xticks on the middle of the group bars\n",
    "plt.xlabel('Rankings', fontweight='bold')\n",
    "plt.ylabel('Frequency', fontweight='bold')\n",
    "plt.xticks([r + 0.4 for r in [0,0.95,1.95,2.95]], ['0-5k', '5k-10k','10k-15k','15k-20k'])\n",
    "plt.gca().xaxis.grid(False)\n",
    "\n",
    "legend_elements = [Line2D([0], [0], color='lightsteelblue', lw=6, label='Neutral'),\n",
    "                   Line2D([0], [0], color='sandybrown', lw=6, label='Happy'),\n",
    "                   Line2D([0], [0], color='olivedrab', lw=6, label='Sad'),\n",
    "                   Line2D([0], [0], color='firebrick', lw=6, label='Angry')]\n",
    "# Create legend & Show graphic\n",
    "plt.legend(handles=legend_elements,bbox_to_anchor=(1.25, 1.0))\n",
    "#plt.savefig('rankings.eps',dpsi=1000)"
   ]
  },
  {
   "cell_type": "markdown",
   "metadata": {},
   "source": [
    "Plot above shows the finishing places of people binned by 5k increments and colors represent top three common emotions. It is interesting that people who ranked in the first 5k places had mostly negative emotions such as sadness and anger, whereas when you go down in the rankings you realize people start to feel happier. Top finishers probably invested a lot by running more than 50 miles a week and they are more ambitious and concentrated than the 15-20k window. Therefore, they express serious faces compared to the slower pace runners.\n",
    "\n"
   ]
  },
  {
   "cell_type": "markdown",
   "metadata": {},
   "source": [
    "## 3. Implementing and Testing the Model"
   ]
  },
  {
   "cell_type": "markdown",
   "metadata": {},
   "source": [
    "The emotional state of the marathon runners are predicted according to the following analysis;\n",
    "* A convolutional neural network was constructed highly similar to an AlexNet architecture. I did not want to make it too deep because first, I did not have the resources to train a deep network, second, it would take weeks to train a network similar to an Inception or a ResNet. Also, I did not want it to be a short one like a LeNet as I would want to distinguish enough features to make reasonable predictions so AlexNet looked like to be the best choice.\n",
    "* Convolutional neural network (I called it the vision network in the code) was trained with the labeled facial expressions (AffectNet) acquired from University of Denver and weights were saved. This dataset had 420K expressions and the training was done one a single GPU (Tesla K80) for 6 hours.\n",
    "* A parallel artificial neural network was constructed with three layers to train the demographics dataset. This dataset is merged with the vision network to take into account both the facial expressions and the correlations coming from the demographics described above in the exploratory analysis.\n",
    "* Then, this bilinear network was trained by keeping the majority of the vision network's weights frozen with the actual marathon images and demographics. In other words, I fine tuned the vision network while training the artificial neural network.\n",
    "\n",
    "The architecture of the bilinear network can be seen below,"
   ]
  },
  {
   "cell_type": "markdown",
   "metadata": {},
   "source": [
    "![alt info](bilinear_net.png)"
   ]
  },
  {
   "cell_type": "markdown",
   "metadata": {},
   "source": [
    "The network outputs the probabilities of each emotion but the prediction layer does a one vs all classification so all probabilities do not add up to 1. As emotional state is a continuous spectrum and there are no distinct lines in between different emotions, depending on the application top emotion or a few emotions can be reported.\n",
    "\n",
    "All the code snippets together with the weights for the project are kept in this repository, I am just going to show the loss and accuracy with respect to the 30 epochs of training. The network was initially overfitting so I ended up increasing the regularization and drop out ratios after the convolutional layers to fix it. The test set accuracy of this set ended up being 69-72% based on a few experiments with the same hyperparameters. The general training behavior of the vision model is displayed below."
   ]
  },
  {
   "cell_type": "code",
   "execution_count": 66,
   "metadata": {},
   "outputs": [
    {
     "data": {
      "image/png": "[encoded data removed]",
      "text/plain": [
       "<Figure size 1296x432 with 2 Axes>"
      ]
     },
     "metadata": {
      "needs_background": "light"
     },
     "output_type": "display_data"
    }
   ],
   "source": [
    "import pickle\n",
    "\n",
    "with open('weights/train_history_v7', 'rb') as f:\n",
    "    data_v7 = pickle.load(f, encoding='latin1')\n",
    "epochs = range(1,31)\n",
    "\n",
    "fig, axes = plt.subplots(1, 2, figsize=(18,6))\n",
    "custom_lines = [Line2D([0], [0], color='red', lw=2),\n",
    "                Line2D([0], [0], color='green', lw=2)]\n",
    "\n",
    "axes[0].plot(epochs, data_v7['loss'], 'r-', epochs, data_v7['val_loss'], 'g-')\n",
    "axes[0].set_ylabel('Loss')\n",
    "axes[0].set_xlabel('Epochs')\n",
    "axes[0].legend('Label via method')\n",
    "axes[0].legend(custom_lines, ['train', 'validation'])\n",
    "\n",
    "axes[1].plot(epochs, data_v7['categorical_accuracy'], 'r-', epochs, data_v7['val_categorical_accuracy'], 'g-')\n",
    "axes[1].set_ylabel('Accuracy')\n",
    "axes[1].set_xlabel('Epochs')\n",
    "axes[1].legend(custom_lines, ['train', 'validation'])\n",
    "\n",
    "plt.show()"
   ]
  },
  {
   "cell_type": "markdown",
   "metadata": {},
   "source": [
    "After saving the weights of the vision network, the bilinear network was trained on top of it with my CPU for 30 epochs with 600 samples. The performance of the combined network increased significantly once the demographics information is added to the model. The test accuracy increased to 87-88%."
   ]
  },
  {
   "cell_type": "code",
   "execution_count": 74,
   "metadata": {},
   "outputs": [
    {
     "name": "stdout",
     "output_type": "stream",
     "text": [
      "Train on 432 samples, validate on 108 samples\n",
      "Epoch 1/30\n",
      "432/432 [==============================] - 27s 62ms/step - loss: 0.7422 - acc: 0.5394 - val_loss: 0.7421 - val_acc: 0.5590\n",
      "Epoch 2/30\n",
      "432/432 [==============================] - 15s 36ms/step - loss: 0.7416 - acc: 0.5451 - val_loss: 0.7412 - val_acc: 0.5694\n",
      "Epoch 3/30\n",
      "432/432 [==============================] - 15s 36ms/step - loss: 0.7403 - acc: 0.5590 - val_loss: 0.7399 - val_acc: 0.5891\n",
      "Epoch 4/30\n",
      "432/432 [==============================] - 16s 37ms/step - loss: 0.7388 - acc: 0.5747 - val_loss: 0.7384 - val_acc: 0.6065\n",
      "Epoch 5/30\n",
      "432/432 [==============================] - 16s 37ms/step - loss: 0.7373 - acc: 0.5859 - val_loss: 0.7367 - val_acc: 0.6331\n",
      "Epoch 6/30\n",
      "432/432 [==============================] - 16s 38ms/step - loss: 0.7357 - acc: 0.6117 - val_loss: 0.7349 - val_acc: 0.6574\n",
      "Epoch 7/30\n",
      "432/432 [==============================] - 16s 37ms/step - loss: 0.7338 - acc: 0.6424 - val_loss: 0.7331 - val_acc: 0.6782\n",
      "Epoch 8/30\n",
      "432/432 [==============================] - 16s 38ms/step - loss: 0.7319 - acc: 0.6800 - val_loss: 0.7312 - val_acc: 0.7002\n",
      "Epoch 9/30\n",
      "432/432 [==============================] - 15s 36ms/step - loss: 0.7299 - acc: 0.7095 - val_loss: 0.7293 - val_acc: 0.7315\n",
      "Epoch 10/30\n",
      "432/432 [==============================] - 15s 35ms/step - loss: 0.7281 - acc: 0.7358 - val_loss: 0.7274 - val_acc: 0.7604\n",
      "Epoch 11/30\n",
      "432/432 [==============================] - 17s 39ms/step - loss: 0.7260 - acc: 0.7503 - val_loss: 0.7255 - val_acc: 0.7755\n",
      "Epoch 12/30\n",
      "432/432 [==============================] - 17s 38ms/step - loss: 0.7241 - acc: 0.7789 - val_loss: 0.7236 - val_acc: 0.7986\n",
      "Epoch 13/30\n",
      "432/432 [==============================] - 16s 38ms/step - loss: 0.7221 - acc: 0.8012 - val_loss: 0.7217 - val_acc: 0.8194\n",
      "Epoch 14/30\n",
      "432/432 [==============================] - 18s 42ms/step - loss: 0.7202 - acc: 0.8134 - val_loss: 0.7198 - val_acc: 0.8310\n",
      "Epoch 15/30\n",
      "432/432 [==============================] - 16s 38ms/step - loss: 0.7183 - acc: 0.8302 - val_loss: 0.7179 - val_acc: 0.8414\n",
      "Epoch 16/30\n",
      "432/432 [==============================] - 17s 39ms/step - loss: 0.7163 - acc: 0.8411 - val_loss: 0.7160 - val_acc: 0.8438\n",
      "Epoch 17/30\n",
      "432/432 [==============================] - 16s 38ms/step - loss: 0.7145 - acc: 0.8524 - val_loss: 0.7141 - val_acc: 0.8472\n",
      "Epoch 18/30\n",
      "432/432 [==============================] - 17s 40ms/step - loss: 0.7124 - acc: 0.8597 - val_loss: 0.7123 - val_acc: 0.8542\n",
      "Epoch 19/30\n",
      "432/432 [==============================] - 16s 38ms/step - loss: 0.7105 - acc: 0.8669 - val_loss: 0.7104 - val_acc: 0.8588\n",
      "Epoch 20/30\n",
      "432/432 [==============================] - 16s 38ms/step - loss: 0.7086 - acc: 0.8666 - val_loss: 0.7085 - val_acc: 0.8634\n",
      "Epoch 21/30\n",
      "432/432 [==============================] - 16s 36ms/step - loss: 0.7066 - acc: 0.8701 - val_loss: 0.7066 - val_acc: 0.8646\n",
      "Epoch 22/30\n",
      "432/432 [==============================] - 17s 39ms/step - loss: 0.7049 - acc: 0.8698 - val_loss: 0.7047 - val_acc: 0.8657\n",
      "Epoch 23/30\n",
      "432/432 [==============================] - 18s 41ms/step - loss: 0.7027 - acc: 0.8707 - val_loss: 0.7029 - val_acc: 0.8692\n",
      "Epoch 24/30\n",
      "432/432 [==============================] - 18s 42ms/step - loss: 0.7011 - acc: 0.8712 - val_loss: 0.7010 - val_acc: 0.8715\n",
      "Epoch 25/30\n",
      "432/432 [==============================] - 16s 37ms/step - loss: 0.6990 - acc: 0.8712 - val_loss: 0.6991 - val_acc: 0.8727\n",
      "Epoch 26/30\n",
      "432/432 [==============================] - 16s 37ms/step - loss: 0.6972 - acc: 0.8721 - val_loss: 0.6973 - val_acc: 0.8715\n",
      "Epoch 27/30\n",
      "432/432 [==============================] - 16s 38ms/step - loss: 0.6951 - acc: 0.8733 - val_loss: 0.6954 - val_acc: 0.8727\n",
      "Epoch 28/30\n",
      "432/432 [==============================] - 17s 39ms/step - loss: 0.6932 - acc: 0.8750 - val_loss: 0.6935 - val_acc: 0.8738\n",
      "Epoch 29/30\n",
      "432/432 [==============================] - 16s 38ms/step - loss: 0.6915 - acc: 0.8744 - val_loss: 0.6917 - val_acc: 0.8738\n",
      "Epoch 30/30\n",
      "432/432 [==============================] - 16s 37ms/step - loss: 0.6892 - acc: 0.8750 - val_loss: 0.6898 - val_acc: 0.8750\n",
      "Test Loss: 0.6924339214960734\n",
      "Test Accuracy: 87.70833253860474\n"
     ]
    }
   ],
   "source": [
    "from helper_functions import freeze_layers, \\\n",
    "                            data_shuffler, test_cv_train_division, \\\n",
    "                            marathon_image_from_csv, get_demographics\n",
    "from combined_network import bilinear_network\n",
    "\n",
    "def bilinear_main():\n",
    "    #let's first set the hyperparameters and prepare the \n",
    "    #images and demographics information for training\n",
    "    batch_size, epochs, num_classes, input_size, train_split, cv_split, tot_data_size = 128, 30, 8, 128, 0.9, 0.2, 601\n",
    "    all_images, all_labels = marathon_image_from_csv(input_size, tot_data_size)\n",
    "    demographics_x = get_demographics()\n",
    "    \n",
    "    \n",
    "    #Shuffling and didviding the data into train, cv and test sets\n",
    "    all_images, all_labels, demographics_x = data_shuffler(all_images, all_labels, demographics_x)\n",
    "    x_vision_train, x_vision_test, y_train, y_test = test_cv_train_division(all_images, all_labels, train_split, tot_data_size)\n",
    "    x_dem_train, x_dem_test, y_train, y_test = test_cv_train_division(demographics_x, all_labels, train_split, tot_data_size)\n",
    "    \n",
    "    \n",
    "    #call the bilinear network for fine tuning the vision \n",
    "    #network and training the ann for demographics network\n",
    "    model = bilinear_network(num_classes, len(demographics_x[0]))\n",
    "    \n",
    "    #freezes layers until the given layer\n",
    "    model = freeze_layers(model, 'fc1')\n",
    "    \n",
    "    fit = True\n",
    "    if fit == True:\n",
    "        history = model.fit([x_dem_train, x_vision_train], y_train, validation_split = cv_split, epochs=epochs, batch_size=batch_size)\n",
    "        model_json = model.to_json()\n",
    "        with open(\"weights/combined_model.json\", \"w\") as json_file:\n",
    "            json_file.write(model_json)\n",
    "        with open('weights/combined_train_history', 'wb') as file_pi:\n",
    "            pickle.dump(history.history, file_pi)\n",
    "        model.save_weights('weights/combined_model.h5')\n",
    "    else:\n",
    "        model.load_weights('weights/combined_model.h5') #load weights\n",
    "\n",
    "    test_score = model.evaluate([x_dem_test, x_vision_test], y_test, verbose=0)\n",
    "    probs = model.predict([x_dem_test, x_vision_test])\n",
    "    print('Test Loss:', test_score[0])\n",
    "    print('Test Accuracy:', 100*test_score[1])\n",
    "    \n",
    "    return probs, y_test\n",
    "    \n",
    "if __name__ == '__main__':\n",
    "    probs, y_test = bilinear_main()"
   ]
  },
  {
   "cell_type": "markdown",
   "metadata": {},
   "source": [
    "The loss and accuracy of the combined network is shown below."
   ]
  },
  {
   "cell_type": "code",
   "execution_count": 75,
   "metadata": {},
   "outputs": [
    {
     "data": {
      "image/png": "[encoded data removed]",
      "text/plain": [
       "<Figure size 1296x432 with 2 Axes>"
      ]
     },
     "metadata": {
      "needs_background": "light"
     },
     "output_type": "display_data"
    }
   ],
   "source": [
    "import pickle\n",
    "\n",
    "with open('weights/combined_train_history', 'rb') as f:\n",
    "    data = pickle.load(f, encoding='latin1')\n",
    "epochs = range(1,31)\n",
    "\n",
    "fig, axes = plt.subplots(1, 2, figsize=(18,6))\n",
    "custom_lines = [Line2D([0], [0], color='red', lw=2),\n",
    "                Line2D([0], [0], color='green', lw=2)]\n",
    "\n",
    "axes[0].plot(epochs, data['loss'], 'r-', epochs, data['val_loss'], 'g-')\n",
    "axes[0].set_ylabel('Loss')\n",
    "axes[0].set_xlabel('Epochs')\n",
    "axes[0].legend('Label via method')\n",
    "axes[0].legend(custom_lines, ['train', 'validation'])\n",
    "\n",
    "axes[1].plot(epochs, data['acc'], 'r-', epochs, data['val_acc'], 'g-')\n",
    "axes[1].set_ylabel('Accuracy')\n",
    "axes[1].set_xlabel('Epochs')\n",
    "axes[1].legend(custom_lines, ['train', 'validation'])\n",
    "\n",
    "plt.show()"
   ]
  },
  {
   "cell_type": "code",
   "execution_count": 78,
   "metadata": {},
   "outputs": [
    {
     "data": {
      "text/plain": [
       "array([[0.7048091 , 0.02605116, 0.06473917, 0.01488638, 0.00436765,\n",
       "        0.00849336, 0.05137369, 0.0261659 ]], dtype=float32)"
      ]
     },
     "execution_count": 78,
     "metadata": {},
     "output_type": "execute_result"
    }
   ],
   "source": [
    "#let's do a quick demonstration of the model\n",
    "from PIL import Image\n",
    "from vision_network import network\n",
    "import numpy as np\n",
    "\n",
    "model = network(8, 128) #inputing the number of classes and the pixel size of the pictures\n",
    "model.load_weights('weights/model_weights_v7.h5') #load weights\n",
    "img = Image.open('test_image.png')\n",
    "im_test = np.array(img)\n",
    "im_test = np.expand_dims(im_test, axis=0)\n",
    "\n",
    "probs = model.predict(im_test[:,:,:,:3])"
   ]
  },
  {
   "cell_type": "markdown",
   "metadata": {},
   "source": [
    "![alt info](test_image.png)"
   ]
  },
  {
   "cell_type": "code",
   "execution_count": 104,
   "metadata": {},
   "outputs": [
    {
     "data": {
      "image/png": "[encoded data removed]",
      "text/plain": [
       "<Figure size 1080x576 with 1 Axes>"
      ]
     },
     "metadata": {
      "needs_background": "light"
     },
     "output_type": "display_data"
    }
   ],
   "source": [
    "objects = ('angry', 'disgust', 'fear', 'happy', 'sad', 'surprise', 'neutral', 'comfort')\n",
    "y_pos = np.arange(len(objects))\n",
    "fig= plt.figure(figsize=(15,8))\n",
    "plt.bar(y_pos, probs[0], align='center')\n",
    "plt.xticks(y_pos, objects)\n",
    "plt.ylabel('percentage')\n",
    "plt.title('emotion')\n",
    "plt.show()"
   ]
  },
  {
   "cell_type": "markdown",
   "metadata": {},
   "source": [
    "## 4. Conclusion"
   ]
  },
  {
   "cell_type": "code",
   "execution_count": null,
   "metadata": {},
   "outputs": [],
   "source": []
  }
 ],
 "metadata": {
  "kernelspec": {
   "display_name": "Python 3",
   "language": "python",
   "name": "python3"
  },
  "language_info": {
   "codemirror_mode": {
    "name": "ipython",
    "version": 3
   },
   "file_extension": ".py",
   "mimetype": "text/x-python",
   "name": "python",
   "nbconvert_exporter": "python",
   "pygments_lexer": "ipython3",
   "version": "3.7.1"
  }
 },
 "nbformat": 4,
 "nbformat_minor": 2
}
